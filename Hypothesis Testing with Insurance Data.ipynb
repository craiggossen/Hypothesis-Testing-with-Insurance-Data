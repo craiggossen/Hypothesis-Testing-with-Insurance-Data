{
 "cells": [
  {
   "cell_type": "markdown",
   "id": "6d8fbea5",
   "metadata": {},
   "source": [
    "# Hypothesis Testing with Insurance Data\n",
    "\n",
    "Craig Gossen"
   ]
  },
  {
   "cell_type": "markdown",
   "id": "227dff57",
   "metadata": {},
   "source": [
    "We have been asked to use our hypothesis testing skills to answer the following questions:\n",
    "\n",
    "- Q1. Do smokers have higher insurance charges than non-smokers?\n",
    "- Q2. Are men more likely to smoke than women?\n",
    "- Q3. Do different regions have different charges, on average?"
   ]
  },
  {
   "cell_type": "markdown",
   "id": "60b0bf0a",
   "metadata": {
    "heading_collapsed": true
   },
   "source": [
    "## Load and Clean"
   ]
  },
  {
   "cell_type": "code",
   "execution_count": 1,
   "id": "7490e4a6",
   "metadata": {
    "hidden": true
   },
   "outputs": [],
   "source": [
    "#Imports\n",
    "import pandas as pd\n",
    "import numpy as np\n",
    "import matplotlib.pyplot as plt\n",
    "import seaborn as sns\n",
    "import scipy.stats as stats"
   ]
  },
  {
   "cell_type": "code",
   "execution_count": 2,
   "id": "501a71ae",
   "metadata": {
    "hidden": true
   },
   "outputs": [
    {
     "data": {
      "text/html": [
       "<div>\n",
       "<style scoped>\n",
       "    .dataframe tbody tr th:only-of-type {\n",
       "        vertical-align: middle;\n",
       "    }\n",
       "\n",
       "    .dataframe tbody tr th {\n",
       "        vertical-align: top;\n",
       "    }\n",
       "\n",
       "    .dataframe thead th {\n",
       "        text-align: right;\n",
       "    }\n",
       "</style>\n",
       "<table border=\"1\" class=\"dataframe\">\n",
       "  <thead>\n",
       "    <tr style=\"text-align: right;\">\n",
       "      <th></th>\n",
       "      <th>age</th>\n",
       "      <th>sex</th>\n",
       "      <th>bmi</th>\n",
       "      <th>children</th>\n",
       "      <th>smoker</th>\n",
       "      <th>region</th>\n",
       "      <th>charges</th>\n",
       "    </tr>\n",
       "  </thead>\n",
       "  <tbody>\n",
       "    <tr>\n",
       "      <th>0</th>\n",
       "      <td>19</td>\n",
       "      <td>female</td>\n",
       "      <td>27.900</td>\n",
       "      <td>0</td>\n",
       "      <td>yes</td>\n",
       "      <td>southwest</td>\n",
       "      <td>16884.92400</td>\n",
       "    </tr>\n",
       "    <tr>\n",
       "      <th>1</th>\n",
       "      <td>18</td>\n",
       "      <td>male</td>\n",
       "      <td>33.770</td>\n",
       "      <td>1</td>\n",
       "      <td>no</td>\n",
       "      <td>southeast</td>\n",
       "      <td>1725.55230</td>\n",
       "    </tr>\n",
       "    <tr>\n",
       "      <th>2</th>\n",
       "      <td>28</td>\n",
       "      <td>male</td>\n",
       "      <td>33.000</td>\n",
       "      <td>3</td>\n",
       "      <td>no</td>\n",
       "      <td>southeast</td>\n",
       "      <td>4449.46200</td>\n",
       "    </tr>\n",
       "    <tr>\n",
       "      <th>3</th>\n",
       "      <td>33</td>\n",
       "      <td>male</td>\n",
       "      <td>22.705</td>\n",
       "      <td>0</td>\n",
       "      <td>no</td>\n",
       "      <td>northwest</td>\n",
       "      <td>21984.47061</td>\n",
       "    </tr>\n",
       "    <tr>\n",
       "      <th>4</th>\n",
       "      <td>32</td>\n",
       "      <td>male</td>\n",
       "      <td>28.880</td>\n",
       "      <td>0</td>\n",
       "      <td>no</td>\n",
       "      <td>northwest</td>\n",
       "      <td>3866.85520</td>\n",
       "    </tr>\n",
       "  </tbody>\n",
       "</table>\n",
       "</div>"
      ],
      "text/plain": [
       "   age     sex     bmi  children smoker     region      charges\n",
       "0   19  female  27.900         0    yes  southwest  16884.92400\n",
       "1   18    male  33.770         1     no  southeast   1725.55230\n",
       "2   28    male  33.000         3     no  southeast   4449.46200\n",
       "3   33    male  22.705         0     no  northwest  21984.47061\n",
       "4   32    male  28.880         0     no  northwest   3866.85520"
      ]
     },
     "execution_count": 2,
     "metadata": {},
     "output_type": "execute_result"
    }
   ],
   "source": [
    "#Load and Clean\n",
    "df = pd.read_csv('Data/insurance.csv')\n",
    "df.head()"
   ]
  },
  {
   "cell_type": "code",
   "execution_count": 3,
   "id": "404838b7",
   "metadata": {
    "hidden": true
   },
   "outputs": [
    {
     "name": "stdout",
     "output_type": "stream",
     "text": [
      "<class 'pandas.core.frame.DataFrame'>\n",
      "RangeIndex: 1338 entries, 0 to 1337\n",
      "Data columns (total 7 columns):\n",
      " #   Column    Non-Null Count  Dtype  \n",
      "---  ------    --------------  -----  \n",
      " 0   age       1338 non-null   int64  \n",
      " 1   sex       1338 non-null   object \n",
      " 2   bmi       1338 non-null   float64\n",
      " 3   children  1338 non-null   int64  \n",
      " 4   smoker    1338 non-null   object \n",
      " 5   region    1338 non-null   object \n",
      " 6   charges   1338 non-null   float64\n",
      "dtypes: float64(2), int64(2), object(3)\n",
      "memory usage: 73.3+ KB\n"
     ]
    }
   ],
   "source": [
    "df.info()"
   ]
  },
  {
   "cell_type": "markdown",
   "id": "959ce46b",
   "metadata": {
    "heading_collapsed": true
   },
   "source": [
    "## Do smokers have higher insurance charges than non-smokers?"
   ]
  },
  {
   "cell_type": "markdown",
   "id": "47e6ef96",
   "metadata": {
    "hidden": true
   },
   "source": [
    "The metrics used to answer this question will be the individual's smoking status (yes/no) and their insurance charges. \n",
    "\n",
    "Null Hypothesis: The insurance charges are the same regardless of smoking status. \n",
    "\n",
    "Alternate Hypothesis: The insurance charges differ depending upon smoking class.\n",
    "\n",
    "This is numerical data with 2 samples/groups to be compared. *A 2 sample t-test will be utilized.*\n",
    "\n",
    "The following assumptions will need to be understood:\n",
    "1. No significant outliers\n",
    "    - Use absolute value of Z-scores >3 as rule\n",
    "2. Normality\n",
    "    - scipy.stats.normaltest\n",
    "3. Equal Variance\n",
    "    - scipy.stats.levene\n",
    "    \n",
    "Summary Table will utilize stats.ttest_ind()\n",
    "\n",
    "The p-value will be checked vs. alpha\n",
    "    - p-value > alpha = fail to reject hypothesis\n",
    "    - p-value < alpha = reject the null hypothesis as there is a significant difference between groups\n"
   ]
  },
  {
   "cell_type": "code",
   "execution_count": 4,
   "id": "ed087915",
   "metadata": {
    "hidden": true
   },
   "outputs": [],
   "source": [
    "#Alpha set to 5%\n",
    "alpha = 0.05"
   ]
  },
  {
   "cell_type": "code",
   "execution_count": 5,
   "id": "9c0c83fa",
   "metadata": {
    "hidden": true
   },
   "outputs": [],
   "source": [
    "#Filtering out smokers\n",
    "smokers = df.loc[df['smoker']=='yes'].copy()\n",
    "nonsmokers = df.loc[df['smoker']=='no'].copy()\n",
    "\n",
    "#smokercharge = smokers['charges']\n",
    "#nonsmokercharge = nonsmokers['charges']"
   ]
  },
  {
   "cell_type": "code",
   "execution_count": 6,
   "id": "02cc9b32",
   "metadata": {
    "hidden": true
   },
   "outputs": [
    {
     "name": "stdout",
     "output_type": "stream",
     "text": [
      "Smokers: \n",
      "Mean = 32,050\n",
      "Median = 34,456\n",
      "Std Dev = 11,520\n"
     ]
    }
   ],
   "source": [
    "# calculate descriptive stats\n",
    "smokers_mean = np.mean(smokers['charges'])\n",
    "smokers_med = np.median(smokers['charges'])\n",
    "smokers_std = np.std(smokers['charges'])\n",
    "\n",
    "print(f'Smokers: \\nMean = {smokers_mean:,.0f}\\nMedian = {smokers_med:,.0f}\\nStd Dev = {smokers_std:,.0f}')"
   ]
  },
  {
   "cell_type": "code",
   "execution_count": 7,
   "id": "dade8cd7",
   "metadata": {
    "hidden": true
   },
   "outputs": [
    {
     "name": "stdout",
     "output_type": "stream",
     "text": [
      "Non Smokers: \n",
      "Mean = 8,434\n",
      "Median = 7,345\n",
      "Std Dev = 5,991\n"
     ]
    }
   ],
   "source": [
    "# calculate descriptive stats\n",
    "nonsmokers_mean = np.mean(nonsmokers['charges'])\n",
    "nonsmokers_med = np.median(nonsmokers['charges'])\n",
    "nonsmokers_std = np.std(nonsmokers['charges'])\n",
    "\n",
    "print(f'Non Smokers: \\nMean = {nonsmokers_mean:,.0f}\\nMedian = {nonsmokers_med:,.0f}\\nStd Dev = {nonsmokers_std:,.0f}')"
   ]
  },
  {
   "cell_type": "code",
   "execution_count": 8,
   "id": "fb3ab8a2",
   "metadata": {
    "hidden": true
   },
   "outputs": [
    {
     "data": {
      "text/plain": [
       "<matplotlib.legend.Legend at 0x24dca2cafd0>"
      ]
     },
     "execution_count": 8,
     "metadata": {},
     "output_type": "execute_result"
    },
    {
     "data": {
      "image/png": "[encoded data removed]",
      "text/plain": [
       "<Figure size 1000x500 with 1 Axes>"
      ]
     },
     "metadata": {},
     "output_type": "display_data"
    }
   ],
   "source": [
    "## Visualizing Sample means\n",
    "fig, ax = plt.subplots(figsize= (10,5))\n",
    "\n",
    "# Histogram\n",
    "ax = sns.histplot(data=smokers, x='charges',fill=True, color='black',kde=True,\n",
    "                  stat='density',common_norm=False,ax=ax)\n",
    "\n",
    "ax = sns.histplot(data=nonsmokers, x='charges',fill=True, color='blue',kde=True,\n",
    "                  stat='density',common_norm=False,ax=ax)\n",
    "\n",
    "#Annotations\n",
    "ax.set_title('Distribution of Charges of Smoker Types')\n",
    "ax.axvline(smokers_mean,ls=':', color='black', lw=3, label =f\"Smoker Mean: {smokers_mean:.2f}\")\n",
    "ax.axvline(nonsmokers_mean,ls='--', color='purple', lw=3, label =f\"Non Smoker Mean: {nonsmokers_mean:.2f}\")\n",
    "ax.legend()"
   ]
  },
  {
   "cell_type": "markdown",
   "id": "63966a96",
   "metadata": {
    "hidden": true
   },
   "source": [
    "There appears to be a significant difference between charges for smokers and non smokers. "
   ]
  },
  {
   "cell_type": "code",
   "execution_count": 9,
   "id": "2131e38b",
   "metadata": {
    "hidden": true
   },
   "outputs": [
    {
     "data": {
      "text/plain": [
       "0"
      ]
     },
     "execution_count": 9,
     "metadata": {},
     "output_type": "execute_result"
    }
   ],
   "source": [
    "#Getting charges from dataset\n",
    "smokerscharges = smokers['charges']\n",
    "\n",
    "#Testing for outliers\n",
    "zscores_s = stats.zscore(smokerscharges)\n",
    "outliers_s = abs(zscores_s)>3\n",
    "np.sum(outliers_s)"
   ]
  },
  {
   "cell_type": "code",
   "execution_count": 10,
   "id": "4eb45b2b",
   "metadata": {
    "hidden": true
   },
   "outputs": [
    {
     "data": {
      "text/plain": [
       "24"
      ]
     },
     "execution_count": 10,
     "metadata": {},
     "output_type": "execute_result"
    }
   ],
   "source": [
    "#Getting charges from dataset\n",
    "nonsmokerscharges = nonsmokers['charges']\n",
    "\n",
    "#Testing for outliers\n",
    "zscores_ns = stats.zscore(nonsmokerscharges)\n",
    "outliers_ns = abs(zscores_ns)>3\n",
    "np.sum(outliers_ns)"
   ]
  },
  {
   "cell_type": "code",
   "execution_count": 11,
   "id": "14c4f481",
   "metadata": {
    "hidden": true
   },
   "outputs": [],
   "source": [
    "#Remove outliers\n",
    "nonsmokerscharges = nonsmokerscharges[(np.abs(stats.zscore(nonsmokerscharges)) < 3)]"
   ]
  },
  {
   "cell_type": "code",
   "execution_count": 12,
   "id": "adb437e4",
   "metadata": {
    "hidden": true
   },
   "outputs": [
    {
     "data": {
      "text/plain": [
       "NormaltestResult(statistic=61.03941356533816, pvalue=5.564930630036463e-14)"
      ]
     },
     "execution_count": 12,
     "metadata": {},
     "output_type": "execute_result"
    }
   ],
   "source": [
    "#Normality Test\n",
    "result_smokerscharges = stats.normaltest(smokerscharges)\n",
    "result_smokerscharges"
   ]
  },
  {
   "cell_type": "code",
   "execution_count": 13,
   "id": "4441d92c",
   "metadata": {
    "hidden": true
   },
   "outputs": [
    {
     "data": {
      "text/plain": [
       "NormaltestResult(statistic=163.80367047789198, pvalue=2.6945416315543976e-36)"
      ]
     },
     "execution_count": 13,
     "metadata": {},
     "output_type": "execute_result"
    }
   ],
   "source": [
    "#Normality Test\n",
    "result_nonsmokerscharges = stats.normaltest(nonsmokerscharges)\n",
    "result_nonsmokerscharges"
   ]
  },
  {
   "cell_type": "markdown",
   "id": "85a0d5dc",
   "metadata": {
    "hidden": true
   },
   "source": [
    "Both smokers and nonsmokers normality were well below alpha which means the data is not normally distributed. The sample size is large enough. "
   ]
  },
  {
   "cell_type": "code",
   "execution_count": 14,
   "id": "afac684a",
   "metadata": {
    "hidden": true
   },
   "outputs": [
    {
     "name": "stdout",
     "output_type": "stream",
     "text": [
      "The p value is 0.00000 < 0.05 indicating no significant difference\n"
     ]
    },
    {
     "data": {
      "text/plain": [
       "LeveneResult(statistic=520.7468821724297, pvalue=2.4247238784347824e-97)"
      ]
     },
     "execution_count": 14,
     "metadata": {},
     "output_type": "execute_result"
    }
   ],
   "source": [
    "#Check for variance\n",
    "result = stats.levene(smokerscharges, nonsmokerscharges)\n",
    "\n",
    "if result.pvalue< alpha:\n",
    "    print(f'The p value is {result.pvalue:.5f} < {alpha} indicating no significant difference')\n",
    "else:\n",
    "    print(f'The p value is {result.pvalue:.5f} > {alpha} indicating there is a significant difference')\n",
    "\n",
    "result\n"
   ]
  },
  {
   "cell_type": "markdown",
   "id": "90868da1",
   "metadata": {
    "hidden": true
   },
   "source": [
    "The p value < alpha, so **we reject the null hypothesis and accept there is a significant difference between the charges between smokers and nonsmokers.**\n",
    "\n",
    "The above visual helps to show this conclusion. "
   ]
  },
  {
   "cell_type": "markdown",
   "id": "b6d9d509",
   "metadata": {
    "heading_collapsed": true
   },
   "source": [
    "## Are men more likely to smoke than women?"
   ]
  },
  {
   "cell_type": "markdown",
   "id": "5ebbe251",
   "metadata": {
    "hidden": true
   },
   "source": [
    "The metrics used to answer this question will be the individual's sex (female/male) and their smoking status (yes/no). \n",
    "\n",
    "Null Hypothesis: A person's sex **does not** influence whether they will be a smoker or non smoker. \n",
    "\n",
    "Alternate Hypothesis: A person's sex **does** influence whether they will be a smoker or non smoker.\n",
    "\n",
    "This is categorical data with 4 samples/groups to be compared. *A chi-square will be utilized.*\n",
    "\n",
    "The following assumptions are made:\n",
    "  - There are two categorical variables (ordinal or nominal) (sex & smoker - both categorical)\n",
    "  - The outcomes are independent\n",
    "  \n",
    "Summary Table will utilize stats.chi2_contingency()\n",
    "\n",
    "The p-value will be checked vs. alpha\n",
    "    - p-value > alpha = fail to reject hypothesis\n",
    "    - p-value < alpha = reject the null hypothesis as there is a significant difference between groups"
   ]
  },
  {
   "cell_type": "code",
   "execution_count": 15,
   "id": "cd9bd373",
   "metadata": {
    "hidden": true
   },
   "outputs": [
    {
     "data": {
      "text/html": [
       "<div>\n",
       "<style scoped>\n",
       "    .dataframe tbody tr th:only-of-type {\n",
       "        vertical-align: middle;\n",
       "    }\n",
       "\n",
       "    .dataframe tbody tr th {\n",
       "        vertical-align: top;\n",
       "    }\n",
       "\n",
       "    .dataframe thead th {\n",
       "        text-align: right;\n",
       "    }\n",
       "</style>\n",
       "<table border=\"1\" class=\"dataframe\">\n",
       "  <thead>\n",
       "    <tr style=\"text-align: right;\">\n",
       "      <th></th>\n",
       "      <th>age</th>\n",
       "      <th>sex</th>\n",
       "      <th>bmi</th>\n",
       "      <th>children</th>\n",
       "      <th>smoker</th>\n",
       "      <th>region</th>\n",
       "      <th>charges</th>\n",
       "    </tr>\n",
       "  </thead>\n",
       "  <tbody>\n",
       "    <tr>\n",
       "      <th>0</th>\n",
       "      <td>19</td>\n",
       "      <td>female</td>\n",
       "      <td>27.900</td>\n",
       "      <td>0</td>\n",
       "      <td>yes</td>\n",
       "      <td>southwest</td>\n",
       "      <td>16884.92400</td>\n",
       "    </tr>\n",
       "    <tr>\n",
       "      <th>1</th>\n",
       "      <td>18</td>\n",
       "      <td>male</td>\n",
       "      <td>33.770</td>\n",
       "      <td>1</td>\n",
       "      <td>no</td>\n",
       "      <td>southeast</td>\n",
       "      <td>1725.55230</td>\n",
       "    </tr>\n",
       "    <tr>\n",
       "      <th>2</th>\n",
       "      <td>28</td>\n",
       "      <td>male</td>\n",
       "      <td>33.000</td>\n",
       "      <td>3</td>\n",
       "      <td>no</td>\n",
       "      <td>southeast</td>\n",
       "      <td>4449.46200</td>\n",
       "    </tr>\n",
       "    <tr>\n",
       "      <th>3</th>\n",
       "      <td>33</td>\n",
       "      <td>male</td>\n",
       "      <td>22.705</td>\n",
       "      <td>0</td>\n",
       "      <td>no</td>\n",
       "      <td>northwest</td>\n",
       "      <td>21984.47061</td>\n",
       "    </tr>\n",
       "    <tr>\n",
       "      <th>4</th>\n",
       "      <td>32</td>\n",
       "      <td>male</td>\n",
       "      <td>28.880</td>\n",
       "      <td>0</td>\n",
       "      <td>no</td>\n",
       "      <td>northwest</td>\n",
       "      <td>3866.85520</td>\n",
       "    </tr>\n",
       "  </tbody>\n",
       "</table>\n",
       "</div>"
      ],
      "text/plain": [
       "   age     sex     bmi  children smoker     region      charges\n",
       "0   19  female  27.900         0    yes  southwest  16884.92400\n",
       "1   18    male  33.770         1     no  southeast   1725.55230\n",
       "2   28    male  33.000         3     no  southeast   4449.46200\n",
       "3   33    male  22.705         0     no  northwest  21984.47061\n",
       "4   32    male  28.880         0     no  northwest   3866.85520"
      ]
     },
     "execution_count": 15,
     "metadata": {},
     "output_type": "execute_result"
    }
   ],
   "source": [
    "df.head()"
   ]
  },
  {
   "cell_type": "code",
   "execution_count": 16,
   "id": "24b34ab3",
   "metadata": {
    "hidden": true,
    "scrolled": true
   },
   "outputs": [
    {
     "data": {
      "text/plain": [
       "Text(0.5, 1.0, 'Number of Smokers/Non Smokers per Sex')"
      ]
     },
     "execution_count": 16,
     "metadata": {},
     "output_type": "execute_result"
    },
    {
     "data": {
      "image/png": "[encoded data removed]",
      "text/plain": [
       "<Figure size 640x480 with 1 Axes>"
      ]
     },
     "metadata": {},
     "output_type": "display_data"
    }
   ],
   "source": [
    "#Plot\n",
    "ax = sns.countplot(data=df, x='sex',hue='smoker',)\n",
    "ax.set_title(\"Number of Smokers/Non Smokers per Sex\")\n"
   ]
  },
  {
   "cell_type": "code",
   "execution_count": 17,
   "id": "717c1114",
   "metadata": {
    "hidden": true,
    "scrolled": true
   },
   "outputs": [
    {
     "data": {
      "text/html": [
       "<div>\n",
       "<style scoped>\n",
       "    .dataframe tbody tr th:only-of-type {\n",
       "        vertical-align: middle;\n",
       "    }\n",
       "\n",
       "    .dataframe tbody tr th {\n",
       "        vertical-align: top;\n",
       "    }\n",
       "\n",
       "    .dataframe thead th {\n",
       "        text-align: right;\n",
       "    }\n",
       "</style>\n",
       "<table border=\"1\" class=\"dataframe\">\n",
       "  <thead>\n",
       "    <tr style=\"text-align: right;\">\n",
       "      <th>smoker</th>\n",
       "      <th>no</th>\n",
       "      <th>yes</th>\n",
       "    </tr>\n",
       "    <tr>\n",
       "      <th>sex</th>\n",
       "      <th></th>\n",
       "      <th></th>\n",
       "    </tr>\n",
       "  </thead>\n",
       "  <tbody>\n",
       "    <tr>\n",
       "      <th>female</th>\n",
       "      <td>547</td>\n",
       "      <td>115</td>\n",
       "    </tr>\n",
       "    <tr>\n",
       "      <th>male</th>\n",
       "      <td>517</td>\n",
       "      <td>159</td>\n",
       "    </tr>\n",
       "  </tbody>\n",
       "</table>\n",
       "</div>"
      ],
      "text/plain": [
       "smoker   no  yes\n",
       "sex             \n",
       "female  547  115\n",
       "male    517  159"
      ]
     },
     "execution_count": 17,
     "metadata": {},
     "output_type": "execute_result"
    }
   ],
   "source": [
    "# calculate the contingency table with pd.cross-tab\n",
    "table = pd.crosstab(df['sex'], df['smoker'])\n",
    "table"
   ]
  },
  {
   "cell_type": "code",
   "execution_count": 18,
   "id": "e3a35618",
   "metadata": {
    "hidden": true
   },
   "outputs": [
    {
     "data": {
      "text/plain": [
       "(7.39291081459996,\n",
       " 0.006548143503580696,\n",
       " 1,\n",
       " array([[526.43348281, 135.56651719],\n",
       "        [537.56651719, 138.43348281]]))"
      ]
     },
     "execution_count": 18,
     "metadata": {},
     "output_type": "execute_result"
    }
   ],
   "source": [
    "# Run the Test and Save the Output\n",
    "result = stats.chi2_contingency(table)\n",
    "result\n"
   ]
  },
  {
   "cell_type": "code",
   "execution_count": 19,
   "id": "d2c07d43",
   "metadata": {
    "hidden": true
   },
   "outputs": [],
   "source": [
    "#Label the results\n",
    "chi2, p, deg_free, expected_vals = result"
   ]
  },
  {
   "cell_type": "code",
   "execution_count": 20,
   "id": "b286e6cf",
   "metadata": {
    "hidden": true
   },
   "outputs": [
    {
     "name": "stdout",
     "output_type": "stream",
     "text": [
      " chi2 = 7.39: p = 0.00655: deg_free = 1.00: expected_vals = [[526.43348281 135.56651719]\n",
      " [537.56651719 138.43348281]]\n"
     ]
    },
    {
     "data": {
      "text/plain": [
       "True"
      ]
     },
     "execution_count": 20,
     "metadata": {},
     "output_type": "execute_result"
    }
   ],
   "source": [
    "# What was our p-value?\n",
    "print(f' chi2 = {chi2:.2f}: p = {p:.5f}: deg_free = {deg_free:.2f}: expected_vals = {expected_vals}')\n",
    "\n",
    "p<alpha"
   ]
  },
  {
   "cell_type": "markdown",
   "id": "4c525807",
   "metadata": {
    "hidden": true
   },
   "source": [
    "The p value < alpha (0.05), so we reject the null hypothesis. **A person's sex does influence whether they will be a smoker or non smoker.**\n",
    "\n",
    "The above visual helps to show this conclusion. "
   ]
  },
  {
   "cell_type": "markdown",
   "id": "ad251e95",
   "metadata": {
    "heading_collapsed": true
   },
   "source": [
    "## Do different regions have different charges, on average?"
   ]
  },
  {
   "cell_type": "code",
   "execution_count": 21,
   "id": "833e904e",
   "metadata": {
    "hidden": true
   },
   "outputs": [
    {
     "data": {
      "text/plain": [
       "southeast    364\n",
       "southwest    325\n",
       "northwest    325\n",
       "northeast    324\n",
       "Name: region, dtype: int64"
      ]
     },
     "execution_count": 21,
     "metadata": {},
     "output_type": "execute_result"
    }
   ],
   "source": [
    "df['region'].value_counts()"
   ]
  },
  {
   "cell_type": "markdown",
   "id": "f3ed461c",
   "metadata": {
    "hidden": true
   },
   "source": [
    "The metrics used to answer this question will be the individual's region (southeast/southwest/northwest/northeast) and their charge (numeric). \n",
    "\n",
    "Null Hypothesis: A person's region **does not** influence their charge. \n",
    "\n",
    "Alternate Hypothesis: A person's region **does** influence their charge.\n",
    "\n",
    "This is categorical data with 8 samples/groups to be compared. *ANOVA and/or Tukey will be used.*\n",
    "\n",
    "The following assumptions will be investigated:\n",
    "- Normality\n",
    "- Equal variance\n",
    "- No significant outliers\n",
    "  \n",
    "Summary Table will utilize stats.f_oneway()\n",
    "\n",
    "The p-value will be checked vs. alpha\n",
    "    - p-value > alpha = fail to reject hypothesis\n",
    "    - p-value < alpha = reject the null hypothesis as there is a significant difference between groups\n",
    "    \n",
    "Post-hoc multiple comparison tests (if needed)"
   ]
  },
  {
   "cell_type": "code",
   "execution_count": 22,
   "id": "347da23d",
   "metadata": {
    "hidden": true,
    "scrolled": true
   },
   "outputs": [
    {
     "data": {
      "image/png": "[encoded data removed]",
      "text/plain": [
       "<Figure size 640x480 with 1 Axes>"
      ]
     },
     "metadata": {},
     "output_type": "display_data"
    }
   ],
   "source": [
    "#Visualize\n",
    "sns.barplot(data=df, x='region',y='charges');"
   ]
  },
  {
   "cell_type": "code",
   "execution_count": 23,
   "id": "a2c67dc5",
   "metadata": {
    "hidden": true
   },
   "outputs": [
    {
     "data": {
      "text/plain": [
       "dict_keys(['southwest', 'southeast', 'northwest', 'northeast'])"
      ]
     },
     "execution_count": 23,
     "metadata": {},
     "output_type": "execute_result"
    }
   ],
   "source": [
    "#Separating the groups \n",
    "groups = {}\n",
    "## Loop through all unique categories\n",
    "for i in df['region'].unique():\n",
    "    ## Get series for group and rename\n",
    "    data = df.loc[df['region']==i,'charges'].copy()\n",
    "    \n",
    "    # save into the dictionary\n",
    "    groups[i] = data\n",
    "    \n",
    "groups.keys()"
   ]
  },
  {
   "cell_type": "code",
   "execution_count": 24,
   "id": "8e873ad8",
   "metadata": {
    "hidden": true
   },
   "outputs": [
    {
     "data": {
      "text/html": [
       "<div>\n",
       "<style scoped>\n",
       "    .dataframe tbody tr th:only-of-type {\n",
       "        vertical-align: middle;\n",
       "    }\n",
       "\n",
       "    .dataframe tbody tr th {\n",
       "        vertical-align: top;\n",
       "    }\n",
       "\n",
       "    .dataframe thead th {\n",
       "        text-align: right;\n",
       "    }\n",
       "</style>\n",
       "<table border=\"1\" class=\"dataframe\">\n",
       "  <thead>\n",
       "    <tr style=\"text-align: right;\">\n",
       "      <th></th>\n",
       "      <th>n</th>\n",
       "      <th>p</th>\n",
       "      <th>test stat</th>\n",
       "    </tr>\n",
       "  </thead>\n",
       "  <tbody>\n",
       "    <tr>\n",
       "      <th>southwest</th>\n",
       "      <td>325.0</td>\n",
       "      <td>6.125298e-23</td>\n",
       "      <td>102.294059</td>\n",
       "    </tr>\n",
       "    <tr>\n",
       "      <th>southeast</th>\n",
       "      <td>364.0</td>\n",
       "      <td>4.953297e-15</td>\n",
       "      <td>65.877446</td>\n",
       "    </tr>\n",
       "    <tr>\n",
       "      <th>northwest</th>\n",
       "      <td>325.0</td>\n",
       "      <td>5.184209e-24</td>\n",
       "      <td>107.232850</td>\n",
       "    </tr>\n",
       "    <tr>\n",
       "      <th>northeast</th>\n",
       "      <td>324.0</td>\n",
       "      <td>1.455431e-19</td>\n",
       "      <td>86.747629</td>\n",
       "    </tr>\n",
       "  </tbody>\n",
       "</table>\n",
       "</div>"
      ],
      "text/plain": [
       "               n             p   test stat\n",
       "southwest  325.0  6.125298e-23  102.294059\n",
       "southeast  364.0  4.953297e-15   65.877446\n",
       "northwest  325.0  5.184209e-24  107.232850\n",
       "northeast  324.0  1.455431e-19   86.747629"
      ]
     },
     "execution_count": 24,
     "metadata": {},
     "output_type": "execute_result"
    }
   ],
   "source": [
    "## Running normal test on each group and confirming there are >20 in each group\n",
    "norm_results = {}\n",
    "for i, data in groups.items():\n",
    "    stat, p = stats.normaltest(data)\n",
    "    ## save the p val, test statistic, and the size of the group\n",
    "    norm_results[i] = {'n': len(data),\n",
    "                             'p':p,\n",
    "                             'test stat':stat,}\n",
    "## convert to a dataframe\n",
    "norm_results_df = pd.DataFrame(norm_results).T\n",
    "norm_results_df"
   ]
  },
  {
   "cell_type": "markdown",
   "id": "0440773f",
   "metadata": {
    "hidden": true
   },
   "source": [
    "N is > 15 for having 4 groups so we can move onto testing the assumption of equal variance. "
   ]
  },
  {
   "cell_type": "code",
   "execution_count": 25,
   "id": "d8bd3d14",
   "metadata": {
    "hidden": true
   },
   "outputs": [
    {
     "data": {
      "text/plain": [
       "LeveneResult(statistic=5.559966758410606, pvalue=0.0008610590250786703)"
      ]
     },
     "execution_count": 25,
     "metadata": {},
     "output_type": "execute_result"
    }
   ],
   "source": [
    "#Testing Variance\n",
    "# with the * operator to select all groups\n",
    "stats.levene(*groups.values())"
   ]
  },
  {
   "cell_type": "markdown",
   "id": "25d4d4d1",
   "metadata": {
    "hidden": true
   },
   "source": [
    "Since our p-value was >.05 we accept the null hypothesis that the samples come from regions with equal variances. Therefore, we accept that our groups do have equal variance, and we have met the assumption of homogeneity of variances."
   ]
  },
  {
   "cell_type": "code",
   "execution_count": 26,
   "id": "e194ec2e",
   "metadata": {
    "hidden": true
   },
   "outputs": [
    {
     "data": {
      "text/plain": [
       "F_onewayResult(statistic=2.96962669358912, pvalue=0.0308933560705201)"
      ]
     },
     "execution_count": 26,
     "metadata": {},
     "output_type": "execute_result"
    }
   ],
   "source": [
    "#Check for outliers using Tukey's interquartile range\n",
    "\n",
    "# perform the correct hypothesis test\n",
    "result = stats.f_oneway( *groups.values())\n",
    "result\n"
   ]
  },
  {
   "cell_type": "markdown",
   "id": "90cf6719",
   "metadata": {
    "hidden": true
   },
   "source": [
    "The p value being < alpha indicates a significant difference. Tukey's will be used to differentiate which group were significantly different. "
   ]
  },
  {
   "cell_type": "code",
   "execution_count": 27,
   "id": "90b10fe5",
   "metadata": {
    "hidden": true
   },
   "outputs": [],
   "source": [
    "from statsmodels.stats.multicomp import pairwise_tukeyhsd\n",
    "values = df['charges']\n",
    "labels = df['region']"
   ]
  },
  {
   "cell_type": "code",
   "execution_count": 28,
   "id": "61ceb7cf",
   "metadata": {
    "hidden": true
   },
   "outputs": [
    {
     "data": {
      "text/html": [
       "<table class=\"simpletable\">\n",
       "<caption>Multiple Comparison of Means - Tukey HSD, FWER=0.05</caption>\n",
       "<tr>\n",
       "   <th>group1</th>    <th>group2</th>    <th>meandiff</th>   <th>p-adj</th>    <th>lower</th>     <th>upper</th>   <th>reject</th>\n",
       "</tr>\n",
       "<tr>\n",
       "  <td>northeast</td> <td>northwest</td>  <td>-988.8091</td> <td>0.7245</td> <td>-3428.9343</td> <td>1451.3161</td>  <td>False</td>\n",
       "</tr>\n",
       "<tr>\n",
       "  <td>northeast</td> <td>southeast</td>  <td>1329.0269</td> <td>0.4745</td> <td>-1044.9417</td> <td>3702.9955</td>  <td>False</td>\n",
       "</tr>\n",
       "<tr>\n",
       "  <td>northeast</td> <td>southwest</td> <td>-1059.4471</td> <td>0.6792</td> <td>-3499.5723</td> <td>1380.6781</td>  <td>False</td>\n",
       "</tr>\n",
       "<tr>\n",
       "  <td>northwest</td> <td>southeast</td>  <td>2317.8361</td> <td>0.0583</td>  <td>-54.1994</td>  <td>4689.8716</td>  <td>False</td>\n",
       "</tr>\n",
       "<tr>\n",
       "  <td>northwest</td> <td>southwest</td>   <td>-70.638</td>  <td>0.9999</td> <td>-2508.8826</td> <td>2367.6066</td>  <td>False</td>\n",
       "</tr>\n",
       "<tr>\n",
       "  <td>southeast</td> <td>southwest</td> <td>-2388.4741</td> <td>0.0477</td> <td>-4760.5096</td> <td>-16.4386</td>   <td>True</td> \n",
       "</tr>\n",
       "</table>"
      ],
      "text/plain": [
       "<class 'statsmodels.iolib.table.SimpleTable'>"
      ]
     },
     "execution_count": 28,
     "metadata": {},
     "output_type": "execute_result"
    }
   ],
   "source": [
    "## perform tukey's multiple comparison test and display the summary\n",
    "tukeys_results = pairwise_tukeyhsd(values,labels)\n",
    "tukeys_results.summary()"
   ]
  },
  {
   "cell_type": "markdown",
   "id": "e2c374c1",
   "metadata": {
    "hidden": true
   },
   "source": [
    "There is a significant different between charges for southeast and southwest. \n",
    "\n",
    "**Hence, the test shows a significant difference and the null hypothesis can be rejected. Different regions have different charges.**\n",
    "\n",
    "The above visual helps to show this conclusion. "
   ]
  },
  {
   "cell_type": "code",
   "execution_count": null,
   "id": "b8154ebb",
   "metadata": {
    "hidden": true
   },
   "outputs": [],
   "source": []
  },
  {
   "cell_type": "code",
   "execution_count": null,
   "id": "69044f6f",
   "metadata": {
    "hidden": true
   },
   "outputs": [],
   "source": []
  }
 ],
 "metadata": {
  "kernelspec": {
   "display_name": "Python (dojo-env)",
   "language": "python",
   "name": "dojo-env"
  },
  "language_info": {
   "codemirror_mode": {
    "name": "ipython",
    "version": 3
   },
   "file_extension": ".py",
   "mimetype": "text/x-python",
   "name": "python",
   "nbconvert_exporter": "python",
   "pygments_lexer": "ipython3",
   "version": "3.9.15"
  },
  "toc": {
   "base_numbering": 1,
   "nav_menu": {},
   "number_sections": false,
   "sideBar": true,
   "skip_h1_title": false,
   "title_cell": "Table of Contents",
   "title_sidebar": "Contents",
   "toc_cell": false,
   "toc_position": {},
   "toc_section_display": true,
   "toc_window_display": false
  }
 },
 "nbformat": 4,
 "nbformat_minor": 5
}
